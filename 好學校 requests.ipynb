{
 "cells": [
  {
   "cell_type": "code",
   "execution_count": null,
   "id": "4204b376",
   "metadata": {},
   "outputs": [],
   "source": [
    "import requests\n",
    "import json\n",
    "import openpyxl as opx\n",
    "import time\n",
    "wb = opx.Workbook()\n",
    "ws = wb.active\n",
    "ws[\"A1\"] = \"課程名稱\"\n",
    "ws[\"B1\"] = \"課程價錢\"\n",
    "ws[\"C1\"] = \"學員人數\"\n",
    "ws[\"D1\"] = \"作者名稱\"\n",
    "ws[\"E1\"] = \"課程類別\"\n",
    "\n",
    "\n",
    "type_ = {\"1\":\"music\",\"2\":\"language\",\"3\":\"photography\",\"4\":\"art\",\"5\":\"design\",\"6\":\"humanities\",\"7\":\"marketing\",\"8\":\"programming\",\"9\":\"finance-and-investment\",\"10\":\"career-skills\",\"11\":\"handmade\",\"12\":\"lifestyle\"}\n",
    "Type_ = {\"music\":\"音樂\",\"language\":\"語言\",\"photography\":\"攝影\",\"art\":\"藝術\",\"design\":\"設計\",\"humanities\":\"人文\",\"marketing\":\"行銷\",\"programming\":\"程式\",\"finance-and-investment\":\"投資理財\",\"career-skills\":\"職場技能\",\"handmade\":\"手作\",\"lifestyle\":\"生活品味\"}\n",
    "x = {\"music\":2,\"language\":3,\"photography\":3,\"art\":6,\"design\":5,\"humanities\":1,\"marketing\":2,\"programming\":5,\"finance-and-investment\":3,\"career-skills\":6,\"handmade\":2,\"lifestyle\":7}\n",
    "for num in range(1,13):#切換內網類別\n",
    "    code = type_[str(num)]\n",
    "    print(Type_[code])\n",
    "    for page in range(1,x[code]+1):#切換頁數\n",
    "        header = {\"user-agent\":\"Mozilla/5.0 (Windows NT 10.0; Win64; x64) AppleWebKit/537.36 (KHTML, like Gecko) Chrome/108.0.0.0 Safari/537.36\",\"content-type\":\"application/json\"}\n",
    "        url=\"https://api.hahow.in/api/group/\"+code+\"/courses?page=\"+str(page)\n",
    "        data = requests.get(url,headers=header)\n",
    "        json_= data.json()\n",
    "        print(\"第\",page,\"頁\")\n",
    "        print(\"*************************************************************************************************************\")\n",
    "        for ele in json_[\"data\"]:#抓取內網資料\n",
    "            name = ele[\"title\"]\n",
    "            price = ele[\"price\"]\n",
    "            try:\n",
    "                students = ele[\"numSoldTickets\"]\n",
    "            except:\n",
    "                students = 0\n",
    "            Stype = Type_[type_[str(num)]]\n",
    "            teacher = ele[\"owner\"][\"name\"]\n",
    "            print('名稱',name)\n",
    "            print('價錢',price)\n",
    "            print('學員',students)\n",
    "            print('作者',teacher)\n",
    "            print(\"------------------------------------------------------------------------------------------------------------\")\n",
    "            time.sleep(1)\n",
    "            ws.append([name,price,students,teacher,Stype])\n",
    "            wb.save(\"hahow.xlsx\")\n",
    "        print(\"請稍等翻頁中...\")\n",
    "        time.sleep(6)\n",
    "    print(\"切換類別...\")\n",
    "    time.sleep(3)\n",
    "print(\"資料已爬完\")"
   ]
  }
 ],
 "metadata": {
  "kernelspec": {
   "display_name": "Python 3 (ipykernel)",
   "language": "python",
   "name": "python3"
  },
  "language_info": {
   "codemirror_mode": {
    "name": "ipython",
    "version": 3
   },
   "file_extension": ".py",
   "mimetype": "text/x-python",
   "name": "python",
   "nbconvert_exporter": "python",
   "pygments_lexer": "ipython3",
   "version": "3.9.13"
  }
 },
 "nbformat": 4,
 "nbformat_minor": 5
}
